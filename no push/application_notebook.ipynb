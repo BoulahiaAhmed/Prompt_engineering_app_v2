{
 "cells": [
  {
   "cell_type": "code",
   "execution_count": 1,
   "metadata": {},
   "outputs": [
    {
     "name": "stderr",
     "output_type": "stream",
     "text": [
      "c:\\Users\\fresh\\anaconda3\\envs\\scriptgenerator\\Lib\\site-packages\\tqdm\\auto.py:21: TqdmWarning: IProgress not found. Please update jupyter and ipywidgets. See https://ipywidgets.readthedocs.io/en/stable/user_install.html\n",
      "  from .autonotebook import tqdm as notebook_tqdm\n"
     ]
    }
   ],
   "source": [
    "import google.generativeai as genai\n",
    "from google.generativeai.types import HarmCategory, HarmBlockThreshold\n",
    "import typing_extensions as typing\n",
    "import logging\n",
    "import json\n",
    "import time\n",
    "from dotenv import load_dotenv\n",
    "import os"
   ]
  },
  {
   "cell_type": "code",
   "execution_count": 2,
   "metadata": {},
   "outputs": [
    {
     "name": "stderr",
     "output_type": "stream",
     "text": [
      "INFO:__main__:Calling Gemini Pro with prompt\n"
     ]
    }
   ],
   "source": [
    "logging.basicConfig(level=logging.INFO)\n",
    "logger = logging.getLogger(__name__)\n",
    "logger.info(\"Calling Gemini Pro with prompt\")"
   ]
  },
  {
   "cell_type": "code",
   "execution_count": 3,
   "metadata": {},
   "outputs": [
    {
     "data": {
      "text/plain": [
       "True"
      ]
     },
     "execution_count": 3,
     "metadata": {},
     "output_type": "execute_result"
    }
   ],
   "source": [
    "# Load environment variables from a .env file\n",
    "load_dotenv()"
   ]
  },
  {
   "cell_type": "code",
   "execution_count": 1,
   "metadata": {},
   "outputs": [
    {
     "ename": "NameError",
     "evalue": "name 'os' is not defined",
     "output_type": "error",
     "traceback": [
      "\u001b[1;31m---------------------------------------------------------------------------\u001b[0m",
      "\u001b[1;31mNameError\u001b[0m                                 Traceback (most recent call last)",
      "Cell \u001b[1;32mIn[1], line 1\u001b[0m\n\u001b[1;32m----> 1\u001b[0m GOOGLE_API_KEY\u001b[38;5;241m=\u001b[39m \u001b[43mos\u001b[49m\u001b[38;5;241m.\u001b[39mgetenv(\u001b[38;5;124m'\u001b[39m\u001b[38;5;124mAPI_KEY\u001b[39m\u001b[38;5;124m'\u001b[39m)\n\u001b[0;32m      2\u001b[0m genai\u001b[38;5;241m.\u001b[39mconfigure(api_key\u001b[38;5;241m=\u001b[39mGOOGLE_API_KEY)\n\u001b[0;32m      4\u001b[0m \u001b[38;5;66;03m#model_list = ['gemini-1.5-flash', 'gemini-1.5-pro-latest']\u001b[39;00m\n",
      "\u001b[1;31mNameError\u001b[0m: name 'os' is not defined"
     ]
    }
   ],
   "source": [
    "GOOGLE_API_KEY= os.getenv('API_KEY')\n",
    "genai.configure(api_key=GOOGLE_API_KEY)\n",
    "\n",
    "#model_list = ['gemini-1.5-flash', 'gemini-1.5-pro-latest']"
   ]
  },
  {
   "cell_type": "code",
   "execution_count": 8,
   "metadata": {},
   "outputs": [],
   "source": [
    "system_message=\"\"\"\n",
    "You are a compliance officer.\n",
    "Your task is to understand the following rule and verify its adherence in the given sales deck. The steps are as follows:\n",
    "\n",
    "Understand the given rule: {rule_name}.\n",
    "Augment the rule with additional vocabulary related to financial products.\n",
    "Evaluate the following sales deck: to determine if it respects the rule.\n",
    "Provide the output in JSON format with the following fields:\n",
    "\n",
    "rule_name (str): The name of the rule being applied.\n",
    "label (bool): The result of evaluating adherence to the rule.\n",
    "part (list[str]): Specific sections or aspects of the sales deck evaluated, including relevant details.\n",
    "suggestion (list[str]): Recommended changes or improvements to ensure compliance with the rule.\n",
    "\n",
    "Example JSON output structure:\n",
    "{\n",
    "  \"rule_name\": \"The compliance rule being applied\",\n",
    "  \"label\": \"Result of evaluating adherence to the rule, either True or False\",\n",
    "  \"part\": [\"Specific section or aspect of the sales pitch evaluated, including relevant details\"],\n",
    "  \"suggestion\": [\"Recommended changes or improvements to ensure compliance with the rule, including relevant details\"]\n",
    "}\n",
    "\n",
    "The sales deck to evaluate is: {sales_deck}\n",
    "\n",
    "\"\"\""
   ]
  },
  {
   "cell_type": "code",
   "execution_count": 16,
   "metadata": {},
   "outputs": [],
   "source": [
    "model = genai.GenerativeModel(model_name='gemini-1.5-flash',\n",
    "                              system_instruction=system_message)"
   ]
  },
  {
   "cell_type": "code",
   "execution_count": 17,
   "metadata": {},
   "outputs": [],
   "source": [
    "class GeminiResponse(typing.TypedDict):\n",
    "    rule_name: str\n",
    "    label: bool\n",
    "    part: list[str]\n",
    "    suggestion: list[str]\n",
    "\n",
    "# Generation config\n",
    "genai_generation_config = genai.types.GenerationConfig(candidate_count=1,\n",
    "                                                       max_output_tokens=400,\n",
    "                                                       temperature=0.1,\n",
    "                                                       response_mime_type=\"application/json\",\n",
    "                                                       response_schema=GeminiResponse)\n",
    "# Safety config\n",
    "safety_settings={\n",
    "        HarmCategory.HARM_CATEGORY_HATE_SPEECH: HarmBlockThreshold.BLOCK_NONE,\n",
    "        HarmCategory.HARM_CATEGORY_HARASSMENT: HarmBlockThreshold.BLOCK_NONE,\n",
    "        HarmCategory.HARM_CATEGORY_DANGEROUS_CONTENT: HarmBlockThreshold.BLOCK_NONE,\n",
    "        HarmCategory.HARM_CATEGORY_SEXUALLY_EXPLICIT: HarmBlockThreshold.BLOCK_NONE,\n",
    "    }"
   ]
  },
  {
   "cell_type": "code",
   "execution_count": 18,
   "metadata": {},
   "outputs": [],
   "source": [
    "def gemini_answer(prompt,model):\n",
    "    response = model.generate_content(prompt, generation_config=genai_generation_config, safety_settings=safety_settings)\n",
    "    response_text = response.parts[0].text\n",
    "    try:\n",
    "        print(response_text)\n",
    "        return response_text\n",
    "    except json.JSONDecodeError:\n",
    "      print(\"Error: Invalid JSON output string\")\n",
    "      return None"
   ]
  },
  {
   "cell_type": "code",
   "execution_count": 19,
   "metadata": {},
   "outputs": [],
   "source": [
    "def inference(model_name,rule,input_text):\n",
    "    system_message=f\"\"\"\n",
    "    You are a compliance officer.\n",
    "    Your task is to understand the following rule and verify its adherence in the given sales deck. The steps are as follows:\n",
    "\n",
    "    Understand the given rule: {rule}.\n",
    "    Augment the rule with additional vocabulary related to financial products.\n",
    "    Evaluate the following sales deck: to determine if it respects the rule.\n",
    "    Provide the output in JSON format with the following fields:\n",
    "\n",
    "    rule_name (str): The name of the rule being applied.\n",
    "    label (bool): The result of evaluating adherence to the rule.\n",
    "    part (list[str]): Specific sections or aspects of the sales deck evaluated, including relevant details.\n",
    "    suggestion (list[str]): Recommended changes or improvements to ensure compliance with the rule.\n",
    "\n",
    "    Example JSON output structure:\n",
    "    {{\n",
    "    \"rule_name\": \"The compliance rule being applied\",\n",
    "    \"label\": \"Result of evaluating adherence to the rule, either True or False\",\n",
    "    \"part\": [\"Specific section or aspect of the sales pitch evaluated, including relevant details\"],\n",
    "    \"suggestion\": [\"Recommended changes or improvements to ensure compliance with the rule, including relevant details\"]\n",
    "    }}\n",
    "\n",
    "    The sales deck to evaluate is: {input_text}\n",
    "    \"\"\"\n",
    "    used_model = genai.GenerativeModel(model_name=model_name,\n",
    "                              system_instruction=system_message)\n",
    "    \n",
    "    output = gemini_answer(input_text, used_model)\n",
    "    return output"
   ]
  },
  {
   "cell_type": "code",
   "execution_count": 20,
   "metadata": {},
   "outputs": [],
   "source": [
    "sales_deck_example= \"\"\"\n",
    "Welcome to BrightFuture Investments! We are dedicated to providing top-notch investment opportunities tailored to your financial goals. With our expert team and innovative strategies, your financial future is in safe hands. At BrightFuture Investments, we understand the complexities of the financial market and strive to simplify the investment process for you. Our mission is to help you achieve your financial aspirations with confidence and ease.\n",
    "BrightFuture Investments leverages cutting-edge algorithms and market insights to maximize your returns. Our team of experts has developed a sophisticated investment strategy that has historically delivered exceptional results. Many of our clients have seen their investments grow significantly, often doubling within a short period. While we always emphasize that past performance does not guarantee future results, our track record speaks volumes about our capability and dedication. Our focus on minimizing risk while maximizing returns sets us apart in the industry. Our platform consistently outperforms the competition, making it the preferred choice for savvy investors. We pride ourselves on our ability to deliver superior returns and unparalleled service. Many of our clients achieve their financial independence much faster than they anticipated, thanks to our innovative approach. By choosing BrightFuture Investments, you are aligning yourself with a team that prioritizes your financial success and is committed to helping you reach your goals.\n",
    "At BrightFuture Investments, we offer personalized investment plans tailored to your unique needs and objectives. Our comprehensive approach ensures that every aspect of your financial journey is carefully considered and optimized for maximum growth. From the initial consultation to ongoing portfolio management, we are with you every step of the way, providing expert guidance and support.\n",
    "Our advanced technology and analytical tools enable us to stay ahead of market trends and make informed investment decisions. This proactive approach allows us to capitalize on opportunities and mitigate risks effectively. Our clients benefit from our deep market knowledge and strategic insights, which are integral to achieving consistent and impressive returns.\n",
    "Moreover, we are committed to transparency and integrity in all our dealings. Our clients have access to detailed reports and updates on their investment performance, ensuring they are always informed and confident in their financial decisions. We believe in building long-term relationships based on trust and mutual success.\n",
    "In summary, BrightFuture Investments is your partner in achieving financial success. With our proven strategies, expert team, and commitment to excellence, you can rest assured that your investments are in capable hands. Join us today and take the first step towards a brighter financial future. Let us help you turn your financial dreams into reality with confidence and peace of mind.\n",
    "\n",
    "\"\"\""
   ]
  },
  {
   "cell_type": "code",
   "execution_count": 21,
   "metadata": {},
   "outputs": [
    {
     "name": "stdout",
     "output_type": "stream",
     "text": [
      "{\"rule_name\": \"Inclusion of Risk Warnings\", \"label\": false, \"part\": [\"The sales deck does not explicitly mention any risk warnings related to investments.\"], \"suggestion\": [\"Include clear and prominent risk warnings throughout the sales deck. This should cover potential losses, market volatility, and the fact that past performance is not indicative of future results. Consider using phrases like \\\"Investing involves risk\\\" or \\\"All investments carry the potential for loss.\\\" \", \"Consider adding a dedicated section or disclaimer specifically addressing risks associated with the investment products offered. This section should be concise, easy to understand, and clearly highlight the potential downsides of investing.\"]}\n",
      "\n",
      "{\"rule_name\": \"Inclusion of Risk Warnings\", \"label\": false, \"part\": [\"The sales deck does not explicitly mention any risk warnings related to investments.\"], \"suggestion\": [\"Include clear and prominent risk warnings throughout the sales deck. This should cover potential losses, market volatility, and the fact that past performance is not indicative of future results. Consider using phrases like \\\"Investing involves risk\\\" or \\\"All investments carry the potential for loss.\\\" \", \"Consider adding a dedicated section or disclaimer specifically addressing risks associated with the investment products offered. This section should be concise, easy to understand, and clearly highlight the potential downsides of investing.\"]}\n",
      "\n"
     ]
    }
   ],
   "source": [
    "result = inference(\"gemini-1.5-flash\", \"Inclusion of Risk Warnings\", sales_deck_example)\n",
    "print(result)"
   ]
  },
  {
   "cell_type": "code",
   "execution_count": 22,
   "metadata": {},
   "outputs": [
    {
     "name": "stdout",
     "output_type": "stream",
     "text": [
      "{\"rule_name\": \"Inclusion of Risk Warnings\", \"label\": false, \"part\": [\"The sales deck does not explicitly mention any risk warnings related to investments.\"], \"suggestion\": [\"Include clear and prominent risk warnings throughout the sales deck. This should cover potential losses, market volatility, and the fact that past performance is not indicative of future results. Consider using phrases like \\\"Investing involves risk\\\" or \\\"All investments carry the potential for loss.\\\" \", \"Consider adding a dedicated section or disclaimer specifically addressing risks associated with the investment products offered. This section should be concise, easy to understand, and clearly highlight the potential downsides of investing.\"]}\n",
      "\n"
     ]
    }
   ],
   "source": [
    "print(result)"
   ]
  },
  {
   "cell_type": "code",
   "execution_count": 25,
   "metadata": {},
   "outputs": [],
   "source": [
    "def gemini_answer(system_message: str, model: genai.GenerativeModel, rule: str, input_text: str) -> typing.Optional[str]:\n",
    "    \"\"\"Generate content using the Gemini model and return the response text.\"\"\"\n",
    "    try:\n",
    "        user_message = f\"The rule is: {rule}, The sales deck to evaluate is: {input_text}\"\n",
    "        \n",
    "        chat = model.start_chat(history=[{\"role\": \"system\", \"content\": system_message}], \n",
    "        generation_config=genai_generation_config, safety_settings=safety_settings)\n",
    "        response = chat.send_message(user_message)\n",
    "        response_text = response.parts[0].text\n",
    "        logger.info(f\"Response: {response_text}\")\n",
    "        return response_text\n",
    "    except json.JSONDecodeError:\n",
    "        logger.error(\"Invalid JSON output string\")\n",
    "        return None\n",
    "    except Exception as e:\n",
    "        logger.error(f\"An unexpected error occurred: {e}\")\n",
    "        return None"
   ]
  },
  {
   "cell_type": "code",
   "execution_count": 26,
   "metadata": {},
   "outputs": [
    {
     "name": "stderr",
     "output_type": "stream",
     "text": [
      "ERROR:__main__:An unexpected error occurred: GenerativeModel.start_chat() got an unexpected keyword argument 'generation_config'\n"
     ]
    }
   ],
   "source": [
    "gemini_answer(\"you are compilance officer evaluate this:\",model,\"fairness\", sales_deck_example)"
   ]
  },
  {
   "cell_type": "code",
   "execution_count": null,
   "metadata": {},
   "outputs": [],
   "source": []
  },
  {
   "cell_type": "markdown",
   "metadata": {},
   "source": [
    "## Media extraction"
   ]
  },
  {
   "cell_type": "code",
   "execution_count": 2,
   "metadata": {},
   "outputs": [],
   "source": [
    "# test groq\n",
    "import os\n",
    "from dotenv import load_dotenv\n",
    "from groq import Groq\n",
    "import typing_extensions as typing\n",
    "import logging\n",
    "import json\n",
    "from typing import List, Optional"
   ]
  },
  {
   "cell_type": "code",
   "execution_count": 3,
   "metadata": {},
   "outputs": [],
   "source": [
    "# Load environment variables from a .env file\n",
    "load_dotenv()\n",
    "\n",
    "GROQ_API_KEY = os.getenv('groq_api')\n",
    "# Initialize the Groq client\n",
    "client = Groq(api_key=GROQ_API_KEY)"
   ]
  },
  {
   "cell_type": "code",
   "execution_count": 6,
   "metadata": {},
   "outputs": [],
   "source": [
    "def transcribe_audio_with_whisper(audio_path):\n",
    "    \"\"\"Transcribes the audio using the specified Whisper model.\"\"\"\n",
    "    with open(audio_path, \"rb\") as audio_file:\n",
    "        transcription = client.audio.transcriptions.create(\n",
    "            file=(audio_path, audio_file.read()),\n",
    "            model=\"whisper-large-v3\",\n",
    "            prompt=\"Specify context or spelling\",\n",
    "            response_format=\"json\",\n",
    "            temperature=0.0\n",
    "        )\n",
    "        return transcription.text"
   ]
  },
  {
   "cell_type": "code",
   "execution_count": null,
   "metadata": {},
   "outputs": [],
   "source": [
    "res =transcribe_audio_with_whisper(\"test.mp3\")"
   ]
  },
  {
   "cell_type": "code",
   "execution_count": 7,
   "metadata": {},
   "outputs": [
    {
     "data": {
      "text/plain": [
       "' Fine-tuning large language models has traditionally required massive computational resources, but techniques like low-rank adaptation or LoRa and prefix tuning are revolutionizing this process. LoRa streamlines fine-tuning by reducing the number of trainable parameters, focusing specifically on low-rank matrices within the model. This means you can fine-tune a large model more quickly and at a fraction of the cost, all while maintaining high performance. For instance, LoRa can make a 175 billion parameter model adaptable with just a few million additional parameters. Prefix tuning, on the other hand, allows for even more efficiency. Instead of retraining the entire model, it modifies only a small portion of the input by appending task-specific tokens or prefixes to the input data. This makes it possible to adapt a model to new tasks with minimal computational overhead. Together, these techniques are making AI more accessible, enabling researchers and developers to fine-tune large models for specific tasks without needing vast amounts of data or computing power. This opens up new possibilities for customization and specialization in AI, allowing for more tailored applications across various industries.'"
      ]
     },
     "execution_count": 7,
     "metadata": {},
     "output_type": "execute_result"
    }
   ],
   "source": [
    "res"
   ]
  },
  {
   "cell_type": "code",
   "execution_count": 8,
   "metadata": {},
   "outputs": [],
   "source": [
    "import cv2\n",
    "import os\n",
    "\n",
    "def extract_frames(video_path, interval_seconds=3, output_dir=\"frames\"):\n",
    "    # Create the output directory if it doesn't exist\n",
    "    if not os.path.exists(output_dir):\n",
    "        os.makedirs(output_dir)\n",
    "    \n",
    "    # Open the video file\n",
    "    video = cv2.VideoCapture(video_path)\n",
    "    \n",
    "    # Get the frames per second (fps) of the video\n",
    "    fps = video.get(cv2.CAP_PROP_FPS)\n",
    "    frame_count = 0\n",
    "    success, frame = video.read()\n",
    "\n",
    "    while success:\n",
    "        # Calculate the current timestamp in seconds\n",
    "        current_time_sec = frame_count / fps\n",
    "        \n",
    "        # Extract frame every `interval_seconds`\n",
    "        if current_time_sec % interval_seconds == 0:\n",
    "            # Save the frame as an image in the output directory\n",
    "            frame_name = f\"{output_dir}/frame_at_{int(current_time_sec)}_seconds.jpg\"\n",
    "            cv2.imwrite(frame_name, frame)\n",
    "            print(f\"Saved {frame_name}\")\n",
    "        \n",
    "        # Read the next frame\n",
    "        success, frame = video.read()\n",
    "        frame_count += 1\n",
    "\n",
    "    # Release the video capture object\n",
    "    video.release()"
   ]
  },
  {
   "cell_type": "code",
   "execution_count": 10,
   "metadata": {},
   "outputs": [
    {
     "name": "stdout",
     "output_type": "stream",
     "text": [
      "Saved output_frames/frame_at_0_seconds.jpg\n",
      "Saved output_frames/frame_at_4_seconds.jpg\n",
      "Saved output_frames/frame_at_8_seconds.jpg\n",
      "Saved output_frames/frame_at_12_seconds.jpg\n",
      "Saved output_frames/frame_at_16_seconds.jpg\n",
      "Saved output_frames/frame_at_20_seconds.jpg\n",
      "Saved output_frames/frame_at_24_seconds.jpg\n",
      "Saved output_frames/frame_at_28_seconds.jpg\n"
     ]
    }
   ],
   "source": [
    "# Example usage\n",
    "extract_frames(\"D:/Work/BerryPie/github streamlit app/Prompt_engineering_app_v2/no push/Zopa - TV - Car finance.mp4\", interval_seconds=4, output_dir=\"output_frames\")"
   ]
  },
  {
   "cell_type": "code",
   "execution_count": 28,
   "metadata": {},
   "outputs": [],
   "source": [
    "import os\n",
    "import base64\n",
    "import json\n",
    "from groq import Groq\n",
    "\n",
    "def encode_image(image_path):\n",
    "    \"\"\"Encodes an image to a base64 string.\"\"\"\n",
    "    try:\n",
    "        with open(image_path, \"rb\") as image_file:\n",
    "            return base64.b64encode(image_file.read()).decode('utf-8')\n",
    "    except Exception as e:\n",
    "        print(f\"Error encoding image {image_path}: {e}\")\n",
    "        return None\n",
    "\n",
    "def bulk_image_ingest(folder_path):\n",
    "    \"\"\"Processes all images in a given folder and extracts text from each.\"\"\"\n",
    "    image_links_list = []\n",
    "\n",
    "    # Loop through the folder and collect all image files\n",
    "    try:\n",
    "        for filename in os.listdir(folder_path):\n",
    "            if filename.lower().endswith(('.png', '.jpg', '.jpeg', '.gif', '.bmp')):  # Add more formats as needed\n",
    "                image_links_list.append(os.path.join(folder_path, filename))\n",
    "    except Exception as e:\n",
    "        print(f\"Error accessing folder {folder_path}: {e}\")\n",
    "        return []\n",
    "\n",
    "    # Process each image\n",
    "    results = []\n",
    "    client = Groq(api_key=GROQ_API_KEY)\n",
    "    \n",
    "    for image in image_links_list:\n",
    "        # Get the base64 string\n",
    "        base64_image = encode_image(image)\n",
    "        if base64_image is None:\n",
    "            print(base64_image)\n",
    "            continue  # Skip this image if encoding failed\n",
    "        \n",
    "        text_prompt = \"\"\"\n",
    "        Your task is to extract the text from the provided image, focus on any small disclaimers or warnings written in small size.\n",
    "        Ensure that you Provide the extracted text in JSON format, using the following structure:\n",
    "        {\n",
    "            \"image_content\": \"\"\n",
    "        }\n",
    "        \n",
    "        If no text is presented in the image return this JSON format: \n",
    "        {\n",
    "            \"image_content\": \"No text presented in the image\"\n",
    "        }\n",
    "        \"\"\"\n",
    "        try:\n",
    "            chat_completion = client.chat.completions.create(\n",
    "                messages=[\n",
    "                    {\n",
    "                        \"role\": \"user\",\n",
    "                        \"content\": [\n",
    "                            {\"type\": \"text\", \"text\": text_prompt},\n",
    "                            {\n",
    "                                \"type\": \"image_url\",\n",
    "                                \"image_url\": {\n",
    "                                    \"url\": f\"data:image/jpeg;base64,{base64_image}\",\n",
    "                                },\n",
    "                            },\n",
    "                        ],\n",
    "                    }\n",
    "                ],\n",
    "                model=\"llama-3.2-11b-vision-preview\",\n",
    "                response_format={\"type\": \"json_object\"},\n",
    "                temperature=0.1,\n",
    "                max_tokens=500,\n",
    "                stream=False,\n",
    "                stop=None,\n",
    "            )\n",
    "            print(chat_completion.choices[0].message.content)\n",
    "            result = json.loads(chat_completion.choices[0].message.content)\n",
    "            results.append(result[\"image_content\"])\n",
    "\n",
    "        except Exception as e:\n",
    "            print(f\"Error processing image {image}: {e}\")\n",
    "\n",
    "    return set(results)\n"
   ]
  },
  {
   "cell_type": "code",
   "execution_count": 29,
   "metadata": {},
   "outputs": [
    {
     "name": "stdout",
     "output_type": "stream",
     "text": [
      "{\n",
      "   \"image_content\": \"No text presented in the image\"\n",
      "}\n",
      "{\n",
      "   \"image_content\": \"Car finance loan representative APR 13.9% subject to individual circumstances and borrowing history. UK residents only. vehicle criteria and t's and c's apply. Average savings of Zopa customers online vs via dealerships. Allfi Bank of the year 2022. Zopa Bank Limited.\"\n",
      "}\n",
      "{\n",
      "   \"image_content\": \"Car finance loan representative APR 13.9%, subject to individual circumstances and borrowing history. UK residents only, vehicle criteria and t's and c's apply. Average savings of Zopa customers online vs via dealerships. All-Mi Bank of the year 2022. Zopa Bank Limited.\"\n",
      "}\n",
      "{\n",
      "   \"image_content\": \"Car finance loan representative APR 13.9%, subject to individual circumstances and borrowing history. UK residents only. vehicle criteria and t's and c's apply. Average savings of Zopa customers online vs via dealerships. All-fi Bank of the year 2022. Zopa Bank Limited.\"\n",
      "}\n",
      "{\n",
      "   \"image_content\": \"No text presented in the image\"\n",
      "}\n",
      "{\n",
      "   \"image_content\": \"ZOPA\"\n",
      "}\n",
      "{\n",
      "   \"image_content\": \"No text presented in the image\"\n",
      "}\n",
      "{\n",
      "   \"image_content\": \"Car finance loan representative APR 13.9% subject to individual circumstances and borrowing history. UK residents only. vehicle criteria and t's and c's apply. Average savings of Zopa customers online vs via dealerships. Allfi Bank of the year 2022. Zopa Bank Limited.\"\n",
      "}\n",
      "{\"Car finance loan representative APR 13.9% subject to individual circumstances and borrowing history. UK residents only. vehicle criteria and t's and c's apply. Average savings of Zopa customers online vs via dealerships. Allfi Bank of the year 2022. Zopa Bank Limited.\", \"Car finance loan representative APR 13.9%, subject to individual circumstances and borrowing history. UK residents only. vehicle criteria and t's and c's apply. Average savings of Zopa customers online vs via dealerships. All-fi Bank of the year 2022. Zopa Bank Limited.\", \"Car finance loan representative APR 13.9%, subject to individual circumstances and borrowing history. UK residents only, vehicle criteria and t's and c's apply. Average savings of Zopa customers online vs via dealerships. All-Mi Bank of the year 2022. Zopa Bank Limited.\", 'ZOPA', 'No text presented in the image'}\n"
     ]
    }
   ],
   "source": [
    "# Example usage\n",
    "results = bulk_image_ingest(\"D:/Work/BerryPie/github streamlit app/Prompt_engineering_app_v2/no push\\output_frames\")\n",
    "print(results)"
   ]
  },
  {
   "cell_type": "code",
   "execution_count": 30,
   "metadata": {},
   "outputs": [
    {
     "data": {
      "text/plain": [
       "{\"Car finance loan representative APR 13.9% subject to individual circumstances and borrowing history. UK residents only. vehicle criteria and t's and c's apply. Average savings of Zopa customers online vs via dealerships. Allfi Bank of the year 2022. Zopa Bank Limited.\",\n",
       " \"Car finance loan representative APR 13.9%, subject to individual circumstances and borrowing history. UK residents only, vehicle criteria and t's and c's apply. Average savings of Zopa customers online vs via dealerships. All-Mi Bank of the year 2022. Zopa Bank Limited.\",\n",
       " \"Car finance loan representative APR 13.9%, subject to individual circumstances and borrowing history. UK residents only. vehicle criteria and t's and c's apply. Average savings of Zopa customers online vs via dealerships. All-fi Bank of the year 2022. Zopa Bank Limited.\",\n",
       " 'No text presented in the image',\n",
       " 'ZOPA'}"
      ]
     },
     "execution_count": 30,
     "metadata": {},
     "output_type": "execute_result"
    }
   ],
   "source": [
    "results"
   ]
  },
  {
   "cell_type": "code",
   "execution_count": null,
   "metadata": {},
   "outputs": [],
   "source": []
  },
  {
   "cell_type": "code",
   "execution_count": null,
   "metadata": {},
   "outputs": [],
   "source": []
  }
 ],
 "metadata": {
  "kernelspec": {
   "display_name": "scriptgenerator",
   "language": "python",
   "name": "python3"
  },
  "language_info": {
   "codemirror_mode": {
    "name": "ipython",
    "version": 3
   },
   "file_extension": ".py",
   "mimetype": "text/x-python",
   "name": "python",
   "nbconvert_exporter": "python",
   "pygments_lexer": "ipython3",
   "version": "3.11.9"
  }
 },
 "nbformat": 4,
 "nbformat_minor": 2
}
